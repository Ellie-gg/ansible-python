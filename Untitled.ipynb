{
 "cells": [
  {
   "cell_type": "code",
   "execution_count": 1,
   "metadata": {},
   "outputs": [],
   "source": [
    "import re\n",
    "\n",
    "def le_assinatura():\n",
    "#  '''A funcao le os valores dos tracos linguisticos do modelo e devolve uma assinatura a ser comparada com os textos fornecidos'''\n",
    "    print(\"Bem-vindo ao detector automatico de COH-PIAH.\")\n",
    "\n",
    "    wal = float(input(\"Entre o tamanho medio de palavra:\"))\n",
    "    ttr = float(input(\"Entre a relacao Type-Token:\"))\n",
    "    hlr = float(input(\"Entre a Razao Hapax Legomana:\"))\n",
    "    sal = float(input(\"Entre o tamanho medio de sentenca:\"))\n",
    "    sac = float(input(\"Entre a complexidade media da sentenca:\"))\n",
    "    pal = float(input(\"Entre o tamanho medio de frase:\"))\n",
    "\n",
    "    return [wal, ttr, hlr, sal, sac, pal]\n",
    "\n",
    "def le_textos():\n",
    "    i = 1\n",
    "    textos = []\n",
    "    texto = input(\"Digite o texto \" + str(i) +\" (aperte enter para sair):\")\n",
    "    while texto:\n",
    "        textos.append(texto)\n",
    "        i += 1\n",
    "        texto = input(\"Digite o texto \" + str(i) +\" (aperte enter para sair):\")\n",
    "\n",
    "    return textos\n",
    "\n",
    "def separa_sentencas(texto):\n",
    "    '''A funcao recebe um texto e devolve uma lista das sentencas dentro do texto'''\n",
    "    sentencas = re.split(r'[.!?]+', texto)\n",
    "    if sentencas[-1] == '':\n",
    "        del sentencas[-1]\n",
    "    return sentencas\n",
    "\n",
    "def separa_frases(sentenca):\n",
    "    '''A funcao recebe uma sentenca e devolve uma lista das frases dentro da sentenca'''\n",
    "    return re.split(r'[,:;]+', sentenca)\n",
    "\n",
    "def separa_palavras(frase):\n",
    "    '''A funcao recebe uma frase e devolve uma lista das palavras dentro da frase'''\n",
    "    return frase.split()\n",
    "\n",
    "def n_palavras_unicas(lista_palavras):\n",
    "    '''Essa funcao recebe uma lista de palavras e devolve o numero de palavras que aparecem uma unica vez'''\n",
    "    freq = dict()\n",
    "    unicas = 0\n",
    "    for palavra in lista_palavras:\n",
    "        p = palavra.lower()\n",
    "        if p in freq:\n",
    "            if freq[p] == 1:\n",
    "                unicas -= 1\n",
    "            freq[p] += 1\n",
    "        else:\n",
    "            freq[p] = 1\n",
    "            unicas += 1\n",
    "\n",
    "    return unicas\n",
    "\n",
    "def n_palavras_diferentes(lista_palavras):\n",
    "    '''Essa funcao recebe uma lista de palavras e devolve o numero de palavras diferentes utilizadas'''\n",
    "    freq = dict()\n",
    "    for palavra in lista_palavras:\n",
    "        p = palavra.lower()\n",
    "        if p in freq:\n",
    "            freq[p] += 1\n",
    "        else:\n",
    "            freq[p] = 1\n",
    "\n",
    "    return len(freq)\n",
    "\n",
    "def compara_assinatura(as_a, as_b):\n",
    "    '''IMPLEMENTAR. Essa funcao recebe duas assinaturas de texto e deve devolver o grau de similaridade nas assinaturas.'''\n",
    "    pass\n",
    "\n",
    "def calcula_assinatura(texto):\n",
    "    '''IMPLEMENTAR. Essa funcao recebe um texto e deve devolver a assinatura do texto.'''\n",
    "    pass\n",
    "\n",
    "def avalia_textos(textos, ass_cp):\n",
    "    '''IMPLEMENTAR. Essa funcao recebe uma lista de textos e deve devolver o numero (1 a n) do texto com maior probabilidade de ter sido infectado por COH-PIAH.'''\n",
    "    pass\n",
    "\n"
   ]
  },
  {
   "cell_type": "code",
   "execution_count": 2,
   "metadata": {},
   "outputs": [
    {
     "name": "stdout",
     "output_type": "stream",
     "text": [
      "Bem-vindo ao detector automatico de COH-PIAH.\n",
      "Entre o tamanho medio de palavra:4\n",
      "Entre a relacao Type-Token:3\n",
      "Entre a Razao Hapax Legomana:2\n",
      "Entre o tamanho medio de sentenca:3\n",
      "Entre a complexidade media da sentenca:3\n",
      "Entre o tamanho medio de frase:2\n"
     ]
    },
    {
     "data": {
      "text/plain": [
       "[4.0, 3.0, 2.0, 3.0, 3.0, 2.0]"
      ]
     },
     "execution_count": 2,
     "metadata": {},
     "output_type": "execute_result"
    }
   ],
   "source": [
    "le_assinatura()\n"
   ]
  },
  {
   "cell_type": "code",
   "execution_count": 3,
   "metadata": {},
   "outputs": [
    {
     "name": "stdout",
     "output_type": "stream",
     "text": [
      "Digite o texto 1 (aperte enter para sair):eu tomei café ontem\n",
      "Digite o texto 2 (aperte enter para sair):eu tomei chá ontem\n",
      "Digite o texto 3 (aperte enter para sair):amanhã vou tomar cerveja\n",
      "Digite o texto 4 (aperte enter para sair):quem sabe um dia eu vá\n",
      "Digite o texto 5 (aperte enter para sair):josue e bernardo\n",
      "Digite o texto 6 (aperte enter para sair):\n"
     ]
    },
    {
     "data": {
      "text/plain": [
       "['eu tomei café ontem',\n",
       " 'eu tomei chá ontem',\n",
       " 'amanhã vou tomar cerveja',\n",
       " 'quem sabe um dia eu vá',\n",
       " 'josue e bernardo']"
      ]
     },
     "execution_count": 3,
     "metadata": {},
     "output_type": "execute_result"
    }
   ],
   "source": [
    "le_textos()"
   ]
  },
  {
   "cell_type": "code",
   "execution_count": 4,
   "metadata": {},
   "outputs": [
    {
     "ename": "TypeError",
     "evalue": "avalia_textos() missing 2 required positional arguments: 'textos' and 'ass_cp'",
     "output_type": "error",
     "traceback": [
      "\u001b[0;31m---------------------------------------------------------------------------\u001b[0m",
      "\u001b[0;31mTypeError\u001b[0m                                 Traceback (most recent call last)",
      "\u001b[0;32m<ipython-input-4-4ec921007cfb>\u001b[0m in \u001b[0;36m<module>\u001b[0;34m()\u001b[0m\n\u001b[0;32m----> 1\u001b[0;31m \u001b[0mavalia_textos\u001b[0m\u001b[0;34m(\u001b[0m\u001b[0;34m)\u001b[0m\u001b[0;34m\u001b[0m\u001b[0m\n\u001b[0m",
      "\u001b[0;31mTypeError\u001b[0m: avalia_textos() missing 2 required positional arguments: 'textos' and 'ass_cp'"
     ]
    }
   ],
   "source": [
    "avalia_textos()"
   ]
  },
  {
   "cell_type": "code",
   "execution_count": null,
   "metadata": {},
   "outputs": [],
   "source": []
  }
 ],
 "metadata": {
  "kernelspec": {
   "display_name": "Python 3",
   "language": "python",
   "name": "python3"
  },
  "language_info": {
   "codemirror_mode": {
    "name": "ipython",
    "version": 3
   },
   "file_extension": ".py",
   "mimetype": "text/x-python",
   "name": "python",
   "nbconvert_exporter": "python",
   "pygments_lexer": "ipython3",
   "version": "3.6.5"
  }
 },
 "nbformat": 4,
 "nbformat_minor": 2
}
